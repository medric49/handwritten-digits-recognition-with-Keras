{
 "cells": [
  {
   "cell_type": "markdown",
   "metadata": {},
   "source": [
    "# Labwork on recoginition of digits by a Neural Network\n",
    "\n",
    "## Introduction\n",
    "\n",
    "The purpose of this exercise is to give an example of the use of neural networks. We'll use neural networks to create a system capable of recognizing handwritten digits. The general functionality of said system consists of the following:\n",
    "- An input (in this case, our handwritten digits)\n",
    "- The hidden layers, which will work towards the recognition of a given digit\n",
    "- The output, which will be a digit between 0 and 9\n",
    "\n",
    "\n",
    "In this labwork, we will use 3 tools.\n",
    "* **Keras** :\n",
    "To build our neural networks.\n",
    "* **Numpy** :\n",
    "To manage vector and matrix easily.\n",
    "* **Matplotlib** :\n",
    "To plot images and graphs in order to illustrate our results."
   ]
  },
  {
   "cell_type": "markdown",
   "metadata": {
    "colab_type": "text",
    "id": "TiyE8ymsOKdz"
   },
   "source": [
    "## Preliminaries\n"
   ]
  },
  {
   "cell_type": "markdown",
   "metadata": {
    "colab_type": "text",
    "id": "ta9Jj9RCO-zS"
   },
   "source": [
    "### Importation of libraries\n",
    "\n",
    "Our first step, as in all Python code, is to import the necessary libraries for the exercise. We'll use TensorFlow 1.14 for it to be compatible with our current version of Keras, which supports all of the methods we need. We'll also import varios Keras components, like models, layer, and optimizers.\n",
    "\n",
    "Finally, we'll include the library that's never missing in model creation: numpy. Numpy includes various mathematical methods required for ML and NN development."
   ]
  },
  {
   "cell_type": "code",
   "execution_count": 2,
   "metadata": {
    "colab": {
     "base_uri": "https://localhost:8080/",
     "height": 397
    },
    "colab_type": "code",
    "id": "q1RGWOI0O_le",
    "outputId": "84b52271-35bb-4019-eb1b-9faef1542f83"
   },
   "outputs": [],
   "source": [
    "import keras.models as models\n",
    "import keras.layers as layers\n",
    "import keras.optimizers as optimizers\n",
    "import keras.metrics as metrics\n",
    "import numpy as np"
   ]
  },
  {
   "cell_type": "markdown",
   "metadata": {
    "colab_type": "text",
    "id": "9Tcq2_sCPIOR"
   },
   "source": [
    "### Loading of data"
   ]
  },
  {
   "cell_type": "markdown",
   "metadata": {
    "colab_type": "text",
    "id": "l_Mi_bXgQFd0"
   },
   "source": [
    "Secondly, we'll do our next essential step: the inclusion of data. As we had already learned in the course before, the MINST dataset was compiled throughout the years by Yann LeCun, Corinna Cortes, and Christopher J.C. Burges, and provides us with thousands of samples of handwritten digits, which can be used to train and test our models. \n",
    "\n",
    "The inclusion of this dataset is very simple, as we're only required to import \"mnist\" from Keras' datasets module. \n",
    "\n",
    "Here's also an important detail: we're going to be using different datasets to train and to test our model. The cause of this has already been explained in our course, but just to review, we're doing this to stop our model from overfitting the training dataset. If we used a single dataset to both train and test, we'd end up with a model that has a very low error rate for said set, but a much higher one for others."
   ]
  },
  {
   "cell_type": "code",
   "execution_count": 3,
   "metadata": {
    "colab": {
     "base_uri": "https://localhost:8080/",
     "height": 53
    },
    "colab_type": "code",
    "id": "RhaYHJn7PYB7",
    "outputId": "91250fa8-e2b2-4488-be43-9712ac917d71"
   },
   "outputs": [],
   "source": [
    "from keras.datasets import mnist\n",
    "(x_train, y_train), (x_test, y_test) = mnist.load_data()\n",
    "\n",
    "x_train, y_train, x_test, y_test = np.array(x_train), np.array(y_train), np.array(x_test), np.array(y_test)"
   ]
  },
  {
   "cell_type": "markdown",
   "metadata": {
    "colab_type": "text",
    "id": "rAkkSVv5WYyQ"
   },
   "source": [
    "Here, we simply use matplotlib for visual representation. In this case, we're using it to display a digit from our dataset, which is represented as a 28 x 28 matrix."
   ]
  },
  {
   "cell_type": "code",
   "execution_count": 4,
   "metadata": {
    "colab": {
     "base_uri": "https://localhost:8080/",
     "height": 283
    },
    "colab_type": "code",
    "id": "UvrGrGHHPcLm",
    "outputId": "f1e853b2-c0c3-4e68-bc68-89035275800d"
   },
   "outputs": [
    {
     "name": "stdout",
     "output_type": "stream",
     "text": [
      "6\n"
     ]
    },
    {
     "data": {
      "image/png": "[encoded data removed]",
      "text/plain": [
       "<Figure size 432x288 with 1 Axes>"
      ]
     },
     "metadata": {
      "needs_background": "light"
     },
     "output_type": "display_data"
    }
   ],
   "source": [
    "import matplotlib.pyplot as plt\n",
    "%matplotlib inline\n",
    "\n",
    "plt.imshow(x_train[18], cmap=\"Greys_r\")\n",
    "print(y_train[18])"
   ]
  },
  {
   "cell_type": "markdown",
   "metadata": {
    "colab_type": "text",
    "id": "1xbx5h0pQ-tT"
   },
   "source": [
    "For the following step, we have to notice something: the data that we're using for images is, naturally, represented by a matrix. Said matrix has a total of 784 pixels, and each pixel is represented by a number from 0 to 1. However, this number is not a probability, as it usually is in other ML/NN exercices. \n",
    "\n",
    "This time around, this number from 0 to 1 represents the color of the current pixel. 0 means that the pixel is completely black (hexadecimal code #000000), while 1 represents a white pixel (#FFFFFF).\n",
    "\n",
    "Now that we know this, we have to remember that we can't use matrices as inputs for a neural network. At least, not in their \"actual\" matrix state. Instead of using a whole 28x28 matrix as an input, we'll convert this into an array of 748 elements, which will have the range of values we already talked about above. \n",
    "\n",
    "As we can see below, we're doing this for both the training and the test datasets."
   ]
  },
  {
   "cell_type": "code",
   "execution_count": 5,
   "metadata": {
    "colab": {},
    "colab_type": "code",
    "id": "TyYO4zP4Phnm"
   },
   "outputs": [],
   "source": [
    "range_ = range(10)\n",
    "x_train_d = x_train.reshape((x_train.shape[0], -1))\n",
    "x_test_d = x_test.reshape((x_test.shape[0], -1))\n",
    "y_train_d = np.array( [ [ 0 if i!=r else 1 for i in range_ ] for r in y_train ])\n",
    "y_test_d = np.array( [ [ 0 if i!=r else 1 for i in range_ ] for r in y_test ])\n",
    "\n",
    "n_input = x_train_d.shape[1] #784"
   ]
  },
  {
   "cell_type": "markdown",
   "metadata": {
    "colab_type": "text",
    "id": "5MlK9UYbRY83"
   },
   "source": [
    "### Plotting\n",
    "\n",
    "Now, we're going to do a little bit of plotting. This does not affect the functionality of our neural network in general, but it will help us evaluate the results more easily, by giving us a visual representation of them.\n",
    "\n",
    "In this case, we're using a bar chart to represent the probability of a given handwritten digit belonging to one class or the other."
   ]
  },
  {
   "cell_type": "code",
   "execution_count": 6,
   "metadata": {
    "colab": {},
    "colab_type": "code",
    "id": "rX7PWK5_RbME"
   },
   "outputs": [],
   "source": [
    "def show_prediction(data, img) :\n",
    "    plt.figure(figsize=(15,5))\n",
    "    plt.subplot(121)\n",
    "    tick_label = ['{}'.format(i) for i in range(10)]\n",
    "    plt.bar(tick_label, data)\n",
    "    plt.subplot(122)\n",
    "    plt.imshow(img, cmap=\"Greys_r\")\n"
   ]
  },
  {
   "cell_type": "code",
   "execution_count": 7,
   "metadata": {
    "colab": {
     "base_uri": "https://localhost:8080/",
     "height": 296
    },
    "colab_type": "code",
    "id": "9XsF45MlRdaN",
    "outputId": "7d494947-efd8-48b5-af50-39845ef03dd7"
   },
   "outputs": [
    {
     "data": {
      "image/png": "[encoded data removed]",
      "text/plain": [
       "<Figure size 1080x360 with 2 Axes>"
      ]
     },
     "metadata": {
      "needs_background": "light"
     },
     "output_type": "display_data"
    }
   ],
   "source": [
    "show_prediction(np.array([0, 0, 0.75, 0.25, 0, 0, 0, 0, 0, 0]), x_train[14])"
   ]
  },
  {
   "cell_type": "markdown",
   "metadata": {
    "colab_type": "text",
    "id": "9GkQv51CSGWY"
   },
   "source": [
    "## Neural network\n",
    "\n"
   ]
  },
  {
   "cell_type": "markdown",
   "metadata": {
    "colab_type": "text",
    "id": "AI833-JoUm_x"
   },
   "source": [
    "### Creation of the model\n",
    "\n",
    "Here comes the most interesting part. We have our datasets, we have our input, and we have our plotting. Now, it's time to create our model. We'll explain more in depth all of our models components in our practical report. \n",
    "\n",
    "For now, let's remark how easy it is to build a model with Keras: it all consists in a pretty simple process in which we add all of our layers and set up some parameters like dropout or the activation function(s) we're giong to use. \n",
    "\n",
    "Our first architecture is made of a sequence of\n",
    "* **a Full connected layer with input size = 784 and output size =  400, ending with relu activation**\n",
    "* **a batch normalization layer**\n",
    "* **a Dropout layer**\n",
    "\n",
    "\n",
    "* **a Full connected layer with input size = 400 and output size = 64, ending with relu activation**\n",
    "* **a batch normalization**\n",
    "* **a Dropout layer**\n",
    "\n",
    "\n",
    "* **a Full connected layer with input size = 64 and output size = 10, ending with softmax activation**\n",
    "\n",
    "So we have a full connected neural network with this architecture : **784 -> 400 -> 64 -> 10**  \n",
    "The activation function used in the hidden layers is **ReLU**,  \n",
    "$ ReLU(z) = max(0,z)$  \n",
    "And the activation function of the output layer is **softmax**  \n",
    "$ softmax(z_i) = \\frac{ e^{z_i}}{ \\sum_j{ e^{z_j} } }$\n",
    "\n",
    "We add in this architecture dropout layers with probability of **0.2**. These layers will help our Network to avoid overfitting effects by cancelling, with a probability of 0.2, some neuron effect during a turn of training.\n",
    "\n",
    "The normalization is layer is used to contract output between -1 and 1, in order to make sure that the variance of parameters is not high. The reason for that is that, if parameters are too divergent, it will create an overfitting effect.\n"
   ]
  },
  {
   "cell_type": "code",
   "execution_count": 20,
   "metadata": {
    "colab": {},
    "colab_type": "code",
    "id": "c3FH3jI2SLdg"
   },
   "outputs": [],
   "source": [
    "model = models.Sequential()\n",
    "dropout = 0.2\n",
    "\n",
    "n_layer_1 = 400\n",
    "n_layer_2 = 64\n",
    "\n",
    "lr = 0.02\n",
    "\n",
    "model.add(layers.Dense(n_layer_1, input_dim=n_input, activation=\"relu\"))\n",
    "model.add(layers.BatchNormalization())\n",
    "model.add(layers.Dropout(dropout))\n",
    "model.add(layers.Dense(n_layer_2, input_dim=n_layer_1, activation=\"relu\"))\n",
    "model.add(layers.BatchNormalization())\n",
    "model.add(layers.Dropout(dropout))\n",
    "model.add(layers.Dense(10, input_dim=n_layer_2, activation=\"softmax\"))\n",
    "\n",
    "optimizer = optimizers.SGD(lr=lr)\n",
    "model.compile(loss=\"categorical_crossentropy\", optimizer=optimizer, metrics=[\"accuracy\"])"
   ]
  },
  {
   "cell_type": "markdown",
   "metadata": {
    "colab_type": "text",
    "id": "Fr-1Lj9GAnTl"
   },
   "source": [
    "The optimization method we use for this method is SGD, and the learning rate chosen is 0.02. And then, we have chosen as loss function, the cross entropy loss."
   ]
  },
  {
   "cell_type": "markdown",
   "metadata": {
    "colab_type": "text",
    "id": "d6o-EREEUji-"
   },
   "source": [
    "#### Training of the model\n",
    "\n",
    "As the subtitle implies, it's time to train our model. For this, we'll choose the number of epochs we'd like to run (40, in our case), the size of our data batches, and our validation split (0.15, then the validation data is taken from the training data, and it is 15% of the original training data). \n",
    "And to finish, our training data will be split into batch of 32.\n",
    "These parameters are preliminary and we'll play around with them in the following examples, to compare the results we get with different parameteres."
   ]
  },
  {
   "cell_type": "code",
   "execution_count": 21,
   "metadata": {
    "colab": {
     "base_uri": "https://localhost:8080/",
     "height": 468
    },
    "colab_type": "code",
    "id": "GY-M6b_mSO7b",
    "outputId": "53aed504-ffc9-40d9-cf4c-51c51785fb95",
    "scrolled": true
   },
   "outputs": [
    {
     "name": "stdout",
     "output_type": "stream",
     "text": [
      "Train on 51000 samples, validate on 9000 samples\n",
      "Epoch 1/40\n",
      "51000/51000 [==============================] - 14s 266us/step - loss: 0.3825 - accuracy: 0.8852 - val_loss: 0.1557 - val_accuracy: 0.9594\n",
      "Epoch 2/40\n",
      "51000/51000 [==============================] - 14s 265us/step - loss: 0.2096 - accuracy: 0.9366 - val_loss: 0.1307 - val_accuracy: 0.9692\n",
      "Epoch 3/40\n",
      "51000/51000 [==============================] - 14s 276us/step - loss: 0.1657 - accuracy: 0.9503 - val_loss: 0.1250 - val_accuracy: 0.9696\n",
      "Epoch 4/40\n",
      "51000/51000 [==============================] - 14s 267us/step - loss: 0.1435 - accuracy: 0.9561 - val_loss: 0.1134 - val_accuracy: 0.9737\n",
      "Epoch 5/40\n",
      "51000/51000 [==============================] - 13s 255us/step - loss: 0.1292 - accuracy: 0.9603 - val_loss: 0.1090 - val_accuracy: 0.9746\n",
      "Epoch 6/40\n",
      "51000/51000 [==============================] - 13s 262us/step - loss: 0.1174 - accuracy: 0.9629 - val_loss: 0.1084 - val_accuracy: 0.9758\n",
      "Epoch 7/40\n",
      "51000/51000 [==============================] - 14s 281us/step - loss: 0.1053 - accuracy: 0.9674 - val_loss: 0.1110 - val_accuracy: 0.9770\n",
      "Epoch 8/40\n",
      "51000/51000 [==============================] - 14s 272us/step - loss: 0.1002 - accuracy: 0.9683 - val_loss: 0.1017 - val_accuracy: 0.9782\n",
      "Epoch 9/40\n",
      "51000/51000 [==============================] - 14s 279us/step - loss: 0.0917 - accuracy: 0.9708 - val_loss: 0.1099 - val_accuracy: 0.9789\n",
      "Epoch 10/40\n",
      "51000/51000 [==============================] - 14s 265us/step - loss: 0.0856 - accuracy: 0.9730 - val_loss: 0.1152 - val_accuracy: 0.9794\n",
      "Epoch 11/40\n",
      "51000/51000 [==============================] - 13s 263us/step - loss: 0.0796 - accuracy: 0.9744 - val_loss: 0.1086 - val_accuracy: 0.9777\n",
      "Epoch 12/40\n",
      "51000/51000 [==============================] - 13s 264us/step - loss: 0.0772 - accuracy: 0.9754 - val_loss: 0.0912 - val_accuracy: 0.9797\n",
      "Epoch 13/40\n",
      "51000/51000 [==============================] - 14s 266us/step - loss: 0.0746 - accuracy: 0.9755 - val_loss: 0.1105 - val_accuracy: 0.9796\n",
      "Epoch 14/40\n",
      "51000/51000 [==============================] - 14s 265us/step - loss: 0.0687 - accuracy: 0.9787 - val_loss: 0.1109 - val_accuracy: 0.9808\n",
      "Epoch 15/40\n",
      "51000/51000 [==============================] - 13s 262us/step - loss: 0.0636 - accuracy: 0.9796 - val_loss: 0.1153 - val_accuracy: 0.9801\n",
      "Epoch 16/40\n",
      "51000/51000 [==============================] - 14s 273us/step - loss: 0.0597 - accuracy: 0.9805 - val_loss: 0.1052 - val_accuracy: 0.9792\n",
      "Epoch 17/40\n",
      "51000/51000 [==============================] - 13s 262us/step - loss: 0.0577 - accuracy: 0.9815 - val_loss: 0.1199 - val_accuracy: 0.9792\n",
      "Epoch 18/40\n",
      "51000/51000 [==============================] - 13s 261us/step - loss: 0.0574 - accuracy: 0.9812 - val_loss: 0.1293 - val_accuracy: 0.9794\n",
      "Epoch 19/40\n",
      "51000/51000 [==============================] - 13s 264us/step - loss: 0.0573 - accuracy: 0.9812 - val_loss: 0.1149 - val_accuracy: 0.9783\n",
      "Epoch 20/40\n",
      "51000/51000 [==============================] - 13s 263us/step - loss: 0.0569 - accuracy: 0.9815 - val_loss: 0.1148 - val_accuracy: 0.9800\n",
      "Epoch 21/40\n",
      "51000/51000 [==============================] - 13s 259us/step - loss: 0.0540 - accuracy: 0.9821 - val_loss: 0.1255 - val_accuracy: 0.9811\n",
      "Epoch 22/40\n",
      "51000/51000 [==============================] - 13s 257us/step - loss: 0.0537 - accuracy: 0.9826 - val_loss: 0.1266 - val_accuracy: 0.9802\n",
      "Epoch 23/40\n",
      "51000/51000 [==============================] - 13s 255us/step - loss: 0.0502 - accuracy: 0.9840 - val_loss: 0.1181 - val_accuracy: 0.9817\n",
      "Epoch 24/40\n",
      "51000/51000 [==============================] - 13s 256us/step - loss: 0.0483 - accuracy: 0.9839 - val_loss: 0.1410 - val_accuracy: 0.9803\n",
      "Epoch 25/40\n",
      "51000/51000 [==============================] - 13s 259us/step - loss: 0.0482 - accuracy: 0.9837 - val_loss: 0.1118 - val_accuracy: 0.9809\n",
      "Epoch 26/40\n",
      "51000/51000 [==============================] - 13s 257us/step - loss: 0.0527 - accuracy: 0.9828 - val_loss: 0.1143 - val_accuracy: 0.9812\n",
      "Epoch 27/40\n",
      "51000/51000 [==============================] - 13s 258us/step - loss: 0.0447 - accuracy: 0.9851 - val_loss: 0.1416 - val_accuracy: 0.9824\n",
      "Epoch 28/40\n",
      "51000/51000 [==============================] - 13s 261us/step - loss: 0.0481 - accuracy: 0.9837 - val_loss: 0.1331 - val_accuracy: 0.9812\n",
      "Epoch 29/40\n",
      "51000/51000 [==============================] - 14s 272us/step - loss: 0.0448 - accuracy: 0.9852 - val_loss: 0.1371 - val_accuracy: 0.9811\n",
      "Epoch 30/40\n",
      "51000/51000 [==============================] - 15s 286us/step - loss: 0.0437 - accuracy: 0.9854 - val_loss: 0.1500 - val_accuracy: 0.9812\n",
      "Epoch 31/40\n",
      "51000/51000 [==============================] - 15s 294us/step - loss: 0.0427 - accuracy: 0.9855 - val_loss: 0.1709 - val_accuracy: 0.9819\n",
      "Epoch 32/40\n",
      "51000/51000 [==============================] - 14s 276us/step - loss: 0.0406 - accuracy: 0.9865 - val_loss: 0.1462 - val_accuracy: 0.9826\n",
      "Epoch 33/40\n",
      "51000/51000 [==============================] - 14s 271us/step - loss: 0.0409 - accuracy: 0.9865 - val_loss: 0.1717 - val_accuracy: 0.9816\n",
      "Epoch 34/40\n",
      "51000/51000 [==============================] - 14s 273us/step - loss: 0.0400 - accuracy: 0.9867 - val_loss: 0.2013 - val_accuracy: 0.9814\n",
      "Epoch 35/40\n",
      "51000/51000 [==============================] - 13s 256us/step - loss: 0.0387 - accuracy: 0.9873 - val_loss: 0.1884 - val_accuracy: 0.9818\n",
      "Epoch 36/40\n",
      "51000/51000 [==============================] - 14s 267us/step - loss: 0.0357 - accuracy: 0.9876 - val_loss: 0.2066 - val_accuracy: 0.9812\n",
      "Epoch 37/40\n",
      "51000/51000 [==============================] - 14s 267us/step - loss: 0.0392 - accuracy: 0.9865 - val_loss: 0.1855 - val_accuracy: 0.9821\n",
      "Epoch 38/40\n",
      "51000/51000 [==============================] - 14s 268us/step - loss: 0.0380 - accuracy: 0.9872 - val_loss: 0.1834 - val_accuracy: 0.9812\n",
      "Epoch 39/40\n",
      "51000/51000 [==============================] - 13s 258us/step - loss: 0.0375 - accuracy: 0.9871 - val_loss: 0.1502 - val_accuracy: 0.9818\n",
      "Epoch 40/40\n",
      "51000/51000 [==============================] - 14s 267us/step - loss: 0.0397 - accuracy: 0.9872 - val_loss: 0.1896 - val_accuracy: 0.9809\n"
     ]
    },
    {
     "data": {
      "text/plain": [
       "<keras.callbacks.callbacks.History at 0x7f72e867ed68>"
      ]
     },
     "execution_count": 21,
     "metadata": {},
     "output_type": "execute_result"
    }
   ],
   "source": [
    "model.fit(x_train_d, y_train_d, epochs=40, batch_size=32, validation_split=0.15)"
   ]
  },
  {
   "cell_type": "markdown",
   "metadata": {},
   "source": [
    "#### Explaination of the learning procedure\n",
    "\n",
    "The learning is done in **40 turns (the number of epochs)**, during which the model will ameliorate its parameters (weights and bias) by a **schochastic gradient descent optimization**.\n",
    "\n",
    "Before the learning, the original training data is split into 2 batchs, the learning data batch and the validation data batch. **The validation data batch is 20% of the original learning data**.\n",
    "And then, during the learning, the new learning data batch is split into **batches of size 32**, in order to facilitate the learning and make it faster. The loss is computed for each batch, by a **cross entropy loss function**, after a mean error is computed.\n",
    "\n",
    "Having the final error, a backpropagation algorithm is executed and at the end all the parameters are upgraded by a **SGD optimizer**."
   ]
  },
  {
   "cell_type": "markdown",
   "metadata": {
    "colab_type": "text",
    "id": "lZeIDuhXU9sk"
   },
   "source": [
    "#### Evaluation of the model\n",
    "\n",
    "Last, but not least, we're going to see how good our model is. This process is very simply and, in Keras, can be done with a single line of code. We just have to call the evaluate() method and select the test data we'll be using for the evaluation. "
   ]
  },
  {
   "cell_type": "code",
   "execution_count": 22,
   "metadata": {
    "colab": {
     "base_uri": "https://localhost:8080/",
     "height": 53
    },
    "colab_type": "code",
    "id": "6T255ojUVAQ_",
    "outputId": "04e91992-2fa5-4c06-e5fe-ff8d818e47de"
   },
   "outputs": [
    {
     "name": "stdout",
     "output_type": "stream",
     "text": [
      "10000/10000 [==============================] - 1s 102us/step\n"
     ]
    },
    {
     "data": {
      "text/plain": [
       "[0.10896185940111172, 0.9814000129699707]"
      ]
     },
     "execution_count": 22,
     "metadata": {},
     "output_type": "execute_result"
    }
   ],
   "source": [
    "model.evaluate(x_test_d, y_test_d)"
   ]
  },
  {
   "cell_type": "markdown",
   "metadata": {
    "colab_type": "text",
    "id": "5-Dz8zVlDei6"
   },
   "source": [
    "After training, our model obtains **a success rate of 98.14%**. It does not seem terrible, but when compared to the state-of-the art for MNIST, it could be much better. Later on this document, we'll play our hyperparameters and try new architectures."
   ]
  },
  {
   "cell_type": "markdown",
   "metadata": {
    "colab_type": "text",
    "id": "JLp9iyiyVIoF"
   },
   "source": [
    "#### Visualization \n",
    "\n",
    "Again, to demonstrate how our model works, we'll use a digit from our dataset and see what is predicted for it."
   ]
  },
  {
   "cell_type": "code",
   "execution_count": 27,
   "metadata": {
    "colab": {
     "base_uri": "https://localhost:8080/",
     "height": 296
    },
    "colab_type": "code",
    "id": "rOLgUgGGVTrQ",
    "outputId": "456645ad-c600-498f-ae57-9e477f428308"
   },
   "outputs": [
    {
     "data": {
      "image/png": "[encoded data removed]",
      "text/plain": [
       "<Figure size 1080x360 with 2 Axes>"
      ]
     },
     "metadata": {
      "needs_background": "light"
     },
     "output_type": "display_data"
    }
   ],
   "source": [
    "n = 2262\n",
    "show_prediction(result[n], x_test[n] )"
   ]
  },
  {
   "cell_type": "markdown",
   "metadata": {},
   "source": [
    "### Model 4 : Let's try with convolutional neural network !\n"
   ]
  },
  {
   "cell_type": "markdown",
   "metadata": {},
   "source": [
    "Knowing that a full connected neural network is limited, now we will try to recognize digits by using a convolutional neural network. The architecture of our network is the following :\n",
    "\n",
    "* A convolutional layer with 32 filters and a kernel of size 3x3, using ReLU\n",
    "* A batch normalization layer\n",
    "* A convolutional layer with 32 filters and a kernel of size 3x3, using ReLU\n",
    "* A batch normalization layer\n",
    "* A Convolutional layer with 32 filters and a kernel of size 5x5, using ReLU\n",
    "* A batch normalization layer\n",
    "* A dropout layer\n",
    "* A Convolutional layer with 64 filters and a kernel of size 3x3, using ReLU\n",
    "* A batch normalization layer\n",
    "* A Convolutional layer with 64 filters and a kernel of size 3x3, using ReLU\n",
    "* A batch normalization layer\n",
    "* A Convolutional layer with 64 filters and a kernel of size 5x5, using ReLU\n",
    "* A batch normalization layer\n",
    "* A dropout layer\n",
    "* A Convolutional layer with 128 filters and a kernel of size 3x3, using ReLU\n",
    "* A batch normalization layer\n",
    "* A dropout layer\n",
    "* A full connected layer of output size = 10, using softmax activation\n",
    "\n",
    "Our **learning rate is 0.02**, optimized by **SGD procedure**, and our **loss function is the cross entropy**.   \n",
    "ReLU proved recently it's a good choice, so we choose **ReLU** as activation function in the hidden layers.  \n",
    "And the activation function of the output layer is **softmax**.  \n",
    "\n",
    "Because of the high number of neurons, we will increase the **dropout probability to 0.4** \n"
   ]
  },
  {
   "cell_type": "code",
   "execution_count": 91,
   "metadata": {},
   "outputs": [],
   "source": [
    "model3 = models.Sequential()\n",
    "dropout3 = 0.4\n",
    "\n",
    "model3.add(layers.Conv2D(32, kernel_size=3, activation='relu', input_shape=(28,28,1)))\n",
    "model3.add(layers.BatchNormalization())\n",
    "\n",
    "model3.add(layers.Conv2D(32, kernel_size=3, activation='relu'))\n",
    "model3.add(layers.BatchNormalization())\n",
    "\n",
    "model3.add(layers.Conv2D(32, kernel_size=5, strides=2, padding='same', activation='relu'))\n",
    "model3.add(layers.BatchNormalization())\n",
    "\n",
    "model3.add(layers.Dropout(dropout3))\n",
    "\n",
    "model3.add(layers.Conv2D(64, kernel_size = 3, activation='relu'))\n",
    "model3.add(layers.BatchNormalization())\n",
    "model3.add(layers.Conv2D(64, kernel_size = 3, activation='relu'))\n",
    "model3.add(layers.BatchNormalization())\n",
    "model3.add(layers.Conv2D(64, kernel_size = 5, strides=2, padding='same', activation='relu'))\n",
    "model3.add(layers.BatchNormalization())\n",
    "model3.add(layers.Dropout(dropout3))\n",
    "\n",
    "model3.add(layers.Conv2D(128, kernel_size = 4, activation='relu'))\n",
    "model3.add(layers.BatchNormalization())\n",
    "model3.add(layers.Flatten())\n",
    "model3.add(layers.Dropout(dropout3))\n",
    "model3.add(layers.Dense(10, activation='softmax'))\n",
    "\n",
    "\n",
    "optimizer3 = optimizers.SGD(lr=0.02)\n",
    "model3.compile(loss=\"categorical_crossentropy\", optimizer=optimizer3, metrics=[\"accuracy\"])"
   ]
  },
  {
   "cell_type": "markdown",
   "metadata": {},
   "source": [
    "Let's train this model. We will run the training with only **20 epochs**, because this model is very complex, and I love my computer."
   ]
  },
  {
   "cell_type": "code",
   "execution_count": 92,
   "metadata": {},
   "outputs": [],
   "source": [
    "x_train_conv = x_train.reshape((-1, 28, 28, 1))"
   ]
  },
  {
   "cell_type": "code",
   "execution_count": 93,
   "metadata": {
    "scrolled": true
   },
   "outputs": [
    {
     "name": "stdout",
     "output_type": "stream",
     "text": [
      "Train on 51000 samples, validate on 9000 samples\n",
      "Epoch 1/20\n",
      "51000/51000 [==============================] - 238s 5ms/step - loss: 0.2068 - accuracy: 0.9359 - val_loss: 0.0474 - val_accuracy: 0.9853\n",
      "Epoch 2/20\n",
      "51000/51000 [==============================] - 226s 4ms/step - loss: 0.0780 - accuracy: 0.9764 - val_loss: 0.0339 - val_accuracy: 0.9901\n",
      "Epoch 3/20\n",
      "51000/51000 [==============================] - 221s 4ms/step - loss: 0.0593 - accuracy: 0.9819 - val_loss: 0.0298 - val_accuracy: 0.9921\n",
      "Epoch 4/20\n",
      "51000/51000 [==============================] - 221s 4ms/step - loss: 0.0505 - accuracy: 0.9845 - val_loss: 0.0276 - val_accuracy: 0.9929\n",
      "Epoch 5/20\n",
      "51000/51000 [==============================] - 219s 4ms/step - loss: 0.0451 - accuracy: 0.9861 - val_loss: 0.0381 - val_accuracy: 0.9889\n",
      "Epoch 6/20\n",
      "51000/51000 [==============================] - 209s 4ms/step - loss: 0.0385 - accuracy: 0.9881 - val_loss: 0.0262 - val_accuracy: 0.9931\n",
      "Epoch 7/20\n",
      "51000/51000 [==============================] - 215s 4ms/step - loss: 0.0374 - accuracy: 0.9885 - val_loss: 0.0275 - val_accuracy: 0.9930\n",
      "Epoch 8/20\n",
      "51000/51000 [==============================] - 211s 4ms/step - loss: 0.0344 - accuracy: 0.9895 - val_loss: 0.0240 - val_accuracy: 0.9938\n",
      "Epoch 9/20\n",
      "51000/51000 [==============================] - 213s 4ms/step - loss: 0.0303 - accuracy: 0.9908 - val_loss: 0.0266 - val_accuracy: 0.9924\n",
      "Epoch 10/20\n",
      "51000/51000 [==============================] - 211s 4ms/step - loss: 0.0276 - accuracy: 0.9916 - val_loss: 0.0236 - val_accuracy: 0.9940\n",
      "Epoch 11/20\n",
      "51000/51000 [==============================] - 215s 4ms/step - loss: 0.0266 - accuracy: 0.9913 - val_loss: 0.0238 - val_accuracy: 0.9933\n",
      "Epoch 12/20\n",
      "51000/51000 [==============================] - 211s 4ms/step - loss: 0.0264 - accuracy: 0.9918 - val_loss: 0.0230 - val_accuracy: 0.9942\n",
      "Epoch 13/20\n",
      "51000/51000 [==============================] - 210s 4ms/step - loss: 0.0236 - accuracy: 0.9926 - val_loss: 0.0209 - val_accuracy: 0.9947\n",
      "Epoch 14/20\n",
      "51000/51000 [==============================] - 209s 4ms/step - loss: 0.0233 - accuracy: 0.9928 - val_loss: 0.0237 - val_accuracy: 0.9939\n",
      "Epoch 15/20\n",
      "51000/51000 [==============================] - 208s 4ms/step - loss: 0.0215 - accuracy: 0.9933 - val_loss: 0.0230 - val_accuracy: 0.9943\n",
      "Epoch 16/20\n",
      "51000/51000 [==============================] - 207s 4ms/step - loss: 0.0207 - accuracy: 0.9938 - val_loss: 0.0220 - val_accuracy: 0.9942\n",
      "Epoch 17/20\n",
      "51000/51000 [==============================] - 207s 4ms/step - loss: 0.0195 - accuracy: 0.9942 - val_loss: 0.0209 - val_accuracy: 0.9946\n",
      "Epoch 18/20\n",
      "51000/51000 [==============================] - 207s 4ms/step - loss: 0.0185 - accuracy: 0.9940 - val_loss: 0.0237 - val_accuracy: 0.9938\n",
      "Epoch 19/20\n",
      "51000/51000 [==============================] - 228s 4ms/step - loss: 0.0182 - accuracy: 0.9939 - val_loss: 0.0241 - val_accuracy: 0.9941\n",
      "Epoch 20/20\n",
      "51000/51000 [==============================] - 251s 5ms/step - loss: 0.0167 - accuracy: 0.9946 - val_loss: 0.0244 - val_accuracy: 0.9944\n"
     ]
    },
    {
     "data": {
      "text/plain": [
       "<keras.callbacks.callbacks.History at 0x7fbf0846b7b8>"
      ]
     },
     "execution_count": 93,
     "metadata": {},
     "output_type": "execute_result"
    }
   ],
   "source": [
    "model3.fit(x_train_conv, y_train_d, epochs=20, batch_size=32, validation_split=0.15)"
   ]
  },
  {
   "cell_type": "markdown",
   "metadata": {},
   "source": [
    "#### Evaluation\n",
    "\n",
    "Just like before, we will evaluate our model."
   ]
  },
  {
   "cell_type": "code",
   "execution_count": 94,
   "metadata": {},
   "outputs": [],
   "source": [
    "x_test_conv = x_test.reshape((-1, 28,28, 1))"
   ]
  },
  {
   "cell_type": "code",
   "execution_count": 95,
   "metadata": {},
   "outputs": [
    {
     "name": "stdout",
     "output_type": "stream",
     "text": [
      "10000/10000 [==============================] - 12s 1ms/step\n"
     ]
    },
    {
     "data": {
      "text/plain": [
       "[0.015301902328125288, 0.9957000017166138]"
      ]
     },
     "execution_count": 95,
     "metadata": {},
     "output_type": "execute_result"
    }
   ],
   "source": [
    "model3.evaluate(x_test_conv, y_test_d)"
   ]
  },
  {
   "cell_type": "markdown",
   "metadata": {},
   "source": [
    "Great ! We obtain **an accuracy of 99.57%** on the test data batch. It means that convolutional architecture is really better than the previous architecture."
   ]
  },
  {
   "cell_type": "code",
   "execution_count": null,
   "metadata": {},
   "outputs": [],
   "source": []
  }
 ],
 "metadata": {
  "celltoolbar": "Raw Cell Format",
  "colab": {
   "collapsed_sections": [],
   "name": "SIRR - Handwritten digit recognition",
   "provenance": []
  },
  "kernelspec": {
   "display_name": "Python 3",
   "language": "python",
   "name": "python3"
  },
  "language_info": {
   "codemirror_mode": {
    "name": "ipython",
    "version": 3
   },
   "file_extension": ".py",
   "mimetype": "text/x-python",
   "name": "python",
   "nbconvert_exporter": "python",
   "pygments_lexer": "ipython3",
   "version": "3.6.9"
  },
  "nteract": {
   "version": "0.22.4"
  },
  "varInspector": {
   "cols": {
    "lenName": 16,
    "lenType": 16,
    "lenVar": 40
   },
   "kernels_config": {
    "python": {
     "delete_cmd_postfix": "",
     "delete_cmd_prefix": "del ",
     "library": "var_list.py",
     "varRefreshCmd": "print(var_dic_list())"
    },
    "r": {
     "delete_cmd_postfix": ") ",
     "delete_cmd_prefix": "rm(",
     "library": "var_list.r",
     "varRefreshCmd": "cat(var_dic_list()) "
    }
   },
   "types_to_exclude": [
    "module",
    "function",
    "builtin_function_or_method",
    "instance",
    "_Feature"
   ],
   "window_display": false
  }
 },
 "nbformat": 4,
 "nbformat_minor": 1
}
